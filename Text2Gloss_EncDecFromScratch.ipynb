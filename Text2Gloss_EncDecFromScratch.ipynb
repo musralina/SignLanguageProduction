{
 "cells": [
  {
   "cell_type": "code",
   "execution_count": 1,
   "id": "c18d8f92",
   "metadata": {},
   "outputs": [
    {
     "name": "stdout",
     "output_type": "stream",
     "text": [
      "Requirement already satisfied: subword-nmt in /Library/Frameworks/Python.framework/Versions/3.9/lib/python3.9/site-packages (0.3.8)\n",
      "Requirement already satisfied: mock in /Library/Frameworks/Python.framework/Versions/3.9/lib/python3.9/site-packages (from subword-nmt) (4.0.3)\n",
      "Requirement already satisfied: tqdm in /Library/Frameworks/Python.framework/Versions/3.9/lib/python3.9/site-packages (from subword-nmt) (4.63.1)\n",
      "Requirement already satisfied: nltk in /Library/Frameworks/Python.framework/Versions/3.9/lib/python3.9/site-packages (3.7)\n",
      "Requirement already satisfied: click in /Library/Frameworks/Python.framework/Versions/3.9/lib/python3.9/site-packages (from nltk) (8.0.3)\n",
      "Requirement already satisfied: joblib in /Library/Frameworks/Python.framework/Versions/3.9/lib/python3.9/site-packages (from nltk) (1.1.0)\n",
      "Requirement already satisfied: regex>=2021.8.3 in /Library/Frameworks/Python.framework/Versions/3.9/lib/python3.9/site-packages (from nltk) (2022.4.24)\n",
      "Requirement already satisfied: tqdm in /Library/Frameworks/Python.framework/Versions/3.9/lib/python3.9/site-packages (from nltk) (4.63.1)\n",
      "Requirement already satisfied: torchtext==0.11.0 in /Library/Frameworks/Python.framework/Versions/3.9/lib/python3.9/site-packages (0.11.0)\n",
      "Requirement already satisfied: tqdm in /Library/Frameworks/Python.framework/Versions/3.9/lib/python3.9/site-packages (from torchtext==0.11.0) (4.63.1)\n",
      "Requirement already satisfied: requests in /Library/Frameworks/Python.framework/Versions/3.9/lib/python3.9/site-packages (from torchtext==0.11.0) (2.27.1)\n",
      "Requirement already satisfied: torch==1.10.0 in /Library/Frameworks/Python.framework/Versions/3.9/lib/python3.9/site-packages (from torchtext==0.11.0) (1.10.0)\n",
      "Requirement already satisfied: numpy in /Library/Frameworks/Python.framework/Versions/3.9/lib/python3.9/site-packages (from torchtext==0.11.0) (1.21.6)\n",
      "Requirement already satisfied: typing-extensions in /Library/Frameworks/Python.framework/Versions/3.9/lib/python3.9/site-packages (from torch==1.10.0->torchtext==0.11.0) (4.4.0)\n",
      "Requirement already satisfied: urllib3<1.27,>=1.21.1 in /Library/Frameworks/Python.framework/Versions/3.9/lib/python3.9/site-packages (from requests->torchtext==0.11.0) (1.26.16)\n",
      "Requirement already satisfied: certifi>=2017.4.17 in /Library/Frameworks/Python.framework/Versions/3.9/lib/python3.9/site-packages (from requests->torchtext==0.11.0) (2022.9.24)\n",
      "Requirement already satisfied: charset-normalizer~=2.0.0 in /Library/Frameworks/Python.framework/Versions/3.9/lib/python3.9/site-packages (from requests->torchtext==0.11.0) (2.0.10)\n",
      "Requirement already satisfied: idna<4,>=2.5 in /Library/Frameworks/Python.framework/Versions/3.9/lib/python3.9/site-packages (from requests->torchtext==0.11.0) (3.3)\n"
     ]
    }
   ],
   "source": [
    "! pip  install subword-nmt\n",
    "! pip install nltk\n",
    "! pip install torchtext==0.11.0"
   ]
  },
  {
   "cell_type": "code",
   "execution_count": 2,
   "id": "c6c0c86a",
   "metadata": {},
   "outputs": [],
   "source": [
    "import pandas as pd"
   ]
  },
  {
   "cell_type": "code",
   "execution_count": 3,
   "id": "74e282ef",
   "metadata": {},
   "outputs": [],
   "source": [
    "# the path for datasets\n",
    "phoenix_dataset_dev = '/Users/alua/Desktop/PHOENIX-2014-T.dev.corpus.csv'\n",
    "phoenix_dataset_test = '/Users/alua/Desktop/PHOENIX-2014-T.test.corpus.csv'\n",
    "phoenix_dataset_train = '/Users/alua/Desktop/PHOENIX-2014-T.train.corpus.csv'\n",
    "# Load the Phoenix dataset\n",
    "phoenix_dev = pd.read_csv(phoenix_dataset_dev, sep=\"|\")\n",
    "phoenix_test = pd.read_csv(phoenix_dataset_test, sep=\"|\")\n",
    "phoenix_train = pd.read_csv(phoenix_dataset_train, sep=\"|\")\n"
   ]
  },
  {
   "cell_type": "code",
   "execution_count": 4,
   "id": "0c3ffe98",
   "metadata": {},
   "outputs": [],
   "source": [
    "# concatenate them\n",
    "phoenix_all = pd.concat([phoenix_dev, phoenix_test, phoenix_train])"
   ]
  },
  {
   "cell_type": "code",
   "execution_count": 5,
   "id": "6b9e213a",
   "metadata": {},
   "outputs": [
    {
     "data": {
      "text/plain": [
       "(8257, 7)"
      ]
     },
     "execution_count": 5,
     "metadata": {},
     "output_type": "execute_result"
    }
   ],
   "source": [
    "phoenix_all.shape"
   ]
  },
  {
   "cell_type": "code",
   "execution_count": 6,
   "id": "d3204e94",
   "metadata": {},
   "outputs": [
    {
     "data": {
      "text/html": [
       "<div>\n",
       "<style scoped>\n",
       "    .dataframe tbody tr th:only-of-type {\n",
       "        vertical-align: middle;\n",
       "    }\n",
       "\n",
       "    .dataframe tbody tr th {\n",
       "        vertical-align: top;\n",
       "    }\n",
       "\n",
       "    .dataframe thead th {\n",
       "        text-align: right;\n",
       "    }\n",
       "</style>\n",
       "<table border=\"1\" class=\"dataframe\">\n",
       "  <thead>\n",
       "    <tr style=\"text-align: right;\">\n",
       "      <th></th>\n",
       "      <th>name</th>\n",
       "      <th>video</th>\n",
       "      <th>start</th>\n",
       "      <th>end</th>\n",
       "      <th>speaker</th>\n",
       "      <th>orth</th>\n",
       "      <th>translation</th>\n",
       "    </tr>\n",
       "  </thead>\n",
       "  <tbody>\n",
       "    <tr>\n",
       "      <th>0</th>\n",
       "      <td>11August_2010_Wednesday_tagesschau-2</td>\n",
       "      <td>11August_2010_Wednesday_tagesschau-2/1/*.png</td>\n",
       "      <td>-1</td>\n",
       "      <td>-1</td>\n",
       "      <td>Signer08</td>\n",
       "      <td>DRUCK TIEF KOMMEN</td>\n",
       "      <td>tiefer luftdruck bestimmt in den nächsten tage...</td>\n",
       "    </tr>\n",
       "    <tr>\n",
       "      <th>1</th>\n",
       "      <td>11August_2010_Wednesday_tagesschau-3</td>\n",
       "      <td>11August_2010_Wednesday_tagesschau-3/1/*.png</td>\n",
       "      <td>-1</td>\n",
       "      <td>-1</td>\n",
       "      <td>Signer08</td>\n",
       "      <td>ES-BEDEUTET VIEL WOLKE UND KOENNEN REGEN GEWIT...</td>\n",
       "      <td>das bedeutet viele wolken und immer wieder zum...</td>\n",
       "    </tr>\n",
       "    <tr>\n",
       "      <th>2</th>\n",
       "      <td>11August_2010_Wednesday_tagesschau-8</td>\n",
       "      <td>11August_2010_Wednesday_tagesschau-8/1/*.png</td>\n",
       "      <td>-1</td>\n",
       "      <td>-1</td>\n",
       "      <td>Signer08</td>\n",
       "      <td>WIND MAESSIG SCHWACH REGION WENN GEWITTER WIND...</td>\n",
       "      <td>meist weht nur ein schwacher wind aus untersch...</td>\n",
       "    </tr>\n",
       "    <tr>\n",
       "      <th>3</th>\n",
       "      <td>25October_2010_Monday_tagesschau-22</td>\n",
       "      <td>25October_2010_Monday_tagesschau-22/1/*.png</td>\n",
       "      <td>-1</td>\n",
       "      <td>-1</td>\n",
       "      <td>Signer01</td>\n",
       "      <td>MITTWOCH REGEN KOENNEN NORDWEST WAHRSCHEINLICH...</td>\n",
       "      <td>am mittwoch hier und da nieselregen in der nor...</td>\n",
       "    </tr>\n",
       "    <tr>\n",
       "      <th>4</th>\n",
       "      <td>05May_2011_Thursday_tagesschau-25</td>\n",
       "      <td>05May_2011_Thursday_tagesschau-25/1/*.png</td>\n",
       "      <td>-1</td>\n",
       "      <td>-1</td>\n",
       "      <td>Signer08</td>\n",
       "      <td>JETZT WETTER WIE-AUSSEHEN MORGEN FREITAG SECHS...</td>\n",
       "      <td>und nun die wettervorhersage für morgen freita...</td>\n",
       "    </tr>\n",
       "  </tbody>\n",
       "</table>\n",
       "</div>"
      ],
      "text/plain": [
       "                                   name  \\\n",
       "0  11August_2010_Wednesday_tagesschau-2   \n",
       "1  11August_2010_Wednesday_tagesschau-3   \n",
       "2  11August_2010_Wednesday_tagesschau-8   \n",
       "3   25October_2010_Monday_tagesschau-22   \n",
       "4     05May_2011_Thursday_tagesschau-25   \n",
       "\n",
       "                                          video  start  end   speaker  \\\n",
       "0  11August_2010_Wednesday_tagesschau-2/1/*.png     -1   -1  Signer08   \n",
       "1  11August_2010_Wednesday_tagesschau-3/1/*.png     -1   -1  Signer08   \n",
       "2  11August_2010_Wednesday_tagesschau-8/1/*.png     -1   -1  Signer08   \n",
       "3   25October_2010_Monday_tagesschau-22/1/*.png     -1   -1  Signer01   \n",
       "4     05May_2011_Thursday_tagesschau-25/1/*.png     -1   -1  Signer08   \n",
       "\n",
       "                                                orth  \\\n",
       "0                                  DRUCK TIEF KOMMEN   \n",
       "1  ES-BEDEUTET VIEL WOLKE UND KOENNEN REGEN GEWIT...   \n",
       "2  WIND MAESSIG SCHWACH REGION WENN GEWITTER WIND...   \n",
       "3  MITTWOCH REGEN KOENNEN NORDWEST WAHRSCHEINLICH...   \n",
       "4  JETZT WETTER WIE-AUSSEHEN MORGEN FREITAG SECHS...   \n",
       "\n",
       "                                         translation  \n",
       "0  tiefer luftdruck bestimmt in den nächsten tage...  \n",
       "1  das bedeutet viele wolken und immer wieder zum...  \n",
       "2  meist weht nur ein schwacher wind aus untersch...  \n",
       "3  am mittwoch hier und da nieselregen in der nor...  \n",
       "4  und nun die wettervorhersage für morgen freita...  "
      ]
     },
     "execution_count": 6,
     "metadata": {},
     "output_type": "execute_result"
    }
   ],
   "source": [
    "phoenix_all.head(5)"
   ]
  },
  {
   "cell_type": "code",
   "execution_count": 7,
   "id": "5769b73b",
   "metadata": {},
   "outputs": [],
   "source": [
    "phoenix_need = phoenix_all[['translation', 'orth']]"
   ]
  },
  {
   "cell_type": "code",
   "execution_count": 8,
   "id": "8a8e79a0",
   "metadata": {},
   "outputs": [
    {
     "data": {
      "text/html": [
       "<div>\n",
       "<style scoped>\n",
       "    .dataframe tbody tr th:only-of-type {\n",
       "        vertical-align: middle;\n",
       "    }\n",
       "\n",
       "    .dataframe tbody tr th {\n",
       "        vertical-align: top;\n",
       "    }\n",
       "\n",
       "    .dataframe thead th {\n",
       "        text-align: right;\n",
       "    }\n",
       "</style>\n",
       "<table border=\"1\" class=\"dataframe\">\n",
       "  <thead>\n",
       "    <tr style=\"text-align: right;\">\n",
       "      <th></th>\n",
       "      <th>translation</th>\n",
       "      <th>orth</th>\n",
       "    </tr>\n",
       "  </thead>\n",
       "  <tbody>\n",
       "    <tr>\n",
       "      <th>0</th>\n",
       "      <td>tiefer luftdruck bestimmt in den nächsten tage...</td>\n",
       "      <td>DRUCK TIEF KOMMEN</td>\n",
       "    </tr>\n",
       "    <tr>\n",
       "      <th>1</th>\n",
       "      <td>das bedeutet viele wolken und immer wieder zum...</td>\n",
       "      <td>ES-BEDEUTET VIEL WOLKE UND KOENNEN REGEN GEWIT...</td>\n",
       "    </tr>\n",
       "    <tr>\n",
       "      <th>2</th>\n",
       "      <td>meist weht nur ein schwacher wind aus untersch...</td>\n",
       "      <td>WIND MAESSIG SCHWACH REGION WENN GEWITTER WIND...</td>\n",
       "    </tr>\n",
       "    <tr>\n",
       "      <th>3</th>\n",
       "      <td>am mittwoch hier und da nieselregen in der nor...</td>\n",
       "      <td>MITTWOCH REGEN KOENNEN NORDWEST WAHRSCHEINLICH...</td>\n",
       "    </tr>\n",
       "    <tr>\n",
       "      <th>4</th>\n",
       "      <td>und nun die wettervorhersage für morgen freita...</td>\n",
       "      <td>JETZT WETTER WIE-AUSSEHEN MORGEN FREITAG SECHS...</td>\n",
       "    </tr>\n",
       "  </tbody>\n",
       "</table>\n",
       "</div>"
      ],
      "text/plain": [
       "                                         translation  \\\n",
       "0  tiefer luftdruck bestimmt in den nächsten tage...   \n",
       "1  das bedeutet viele wolken und immer wieder zum...   \n",
       "2  meist weht nur ein schwacher wind aus untersch...   \n",
       "3  am mittwoch hier und da nieselregen in der nor...   \n",
       "4  und nun die wettervorhersage für morgen freita...   \n",
       "\n",
       "                                                orth  \n",
       "0                                  DRUCK TIEF KOMMEN  \n",
       "1  ES-BEDEUTET VIEL WOLKE UND KOENNEN REGEN GEWIT...  \n",
       "2  WIND MAESSIG SCHWACH REGION WENN GEWITTER WIND...  \n",
       "3  MITTWOCH REGEN KOENNEN NORDWEST WAHRSCHEINLICH...  \n",
       "4  JETZT WETTER WIE-AUSSEHEN MORGEN FREITAG SECHS...  "
      ]
     },
     "execution_count": 8,
     "metadata": {},
     "output_type": "execute_result"
    }
   ],
   "source": [
    "phoenix_need.head(5)"
   ]
  },
  {
   "cell_type": "code",
   "execution_count": 9,
   "id": "8898f335",
   "metadata": {},
   "outputs": [],
   "source": [
    "# to make clear, what is source and what is target, let's rename them\n",
    "phoenix_need = phoenix_need.rename(columns={\"translation\": \"src\", \"orth\": \"trg\"})"
   ]
  },
  {
   "cell_type": "code",
   "execution_count": 10,
   "id": "387dfe9d",
   "metadata": {},
   "outputs": [],
   "source": [
    "phoenix_need.to_csv('phoenix_need.csv', sep=\"\\t\", index = False)"
   ]
  },
  {
   "cell_type": "code",
   "execution_count": 11,
   "id": "e38d2ade",
   "metadata": {},
   "outputs": [],
   "source": [
    "import re\n",
    "phoenix_data = []\n",
    "for row in phoenix_need.values:\n",
    "    for cell in row:\n",
    "        # split the cell value into sentences using regex\n",
    "        # replace the '.' with '. ' to split at end of sentence\n",
    "        # split the resulting string using '. ' as a delimiter\n",
    "        cell_sentences = re.split(r'(?<=[^A-Z].[.?]) +(?=[A-Z])', cell.replace(\".\", \". \"))\n",
    "        phoenix_data.extend(cell_sentences)\n"
   ]
  },
  {
   "cell_type": "code",
   "execution_count": 12,
   "id": "0abe4692",
   "metadata": {},
   "outputs": [],
   "source": [
    "import torch\n",
    "import torch.nn as nn\n",
    "import torch.optim as optim\n",
    "\n",
    "import torchtext\n",
    "\n",
    "from torchtext.legacy.data import Field, BucketIterator, TabularDataset\n",
    "\n",
    "import spacy\n",
    "\n",
    "import random\n",
    "import math\n",
    "import time\n",
    "\n",
    "import matplotlib\n",
    "matplotlib.rcParams.update({'figure.figsize': (16, 12), 'font.size': 14})\n",
    "import matplotlib.pyplot as plt\n",
    "%matplotlib inline\n",
    "from IPython.display import clear_output\n",
    "\n",
    "from nltk.tokenize import WordPunctTokenizer\n",
    "from subword_nmt.learn_bpe import learn_bpe\n",
    "from subword_nmt.apply_bpe import BPE"
   ]
  },
  {
   "cell_type": "code",
   "execution_count": 13,
   "id": "294054ae",
   "metadata": {},
   "outputs": [
    {
     "name": "stdout",
     "output_type": "stream",
     "text": [
      "Requirement already satisfied: transformers in /Library/Frameworks/Python.framework/Versions/3.9/lib/python3.9/site-packages (4.25.1)\n",
      "Requirement already satisfied: filelock in /Library/Frameworks/Python.framework/Versions/3.9/lib/python3.9/site-packages (from transformers) (3.12.0)\n",
      "Requirement already satisfied: huggingface-hub<1.0,>=0.10.0 in /Library/Frameworks/Python.framework/Versions/3.9/lib/python3.9/site-packages (from transformers) (0.11.1)\n",
      "Requirement already satisfied: numpy>=1.17 in /Library/Frameworks/Python.framework/Versions/3.9/lib/python3.9/site-packages (from transformers) (1.21.6)\n",
      "Requirement already satisfied: packaging>=20.0 in /Library/Frameworks/Python.framework/Versions/3.9/lib/python3.9/site-packages (from transformers) (21.3)\n",
      "Requirement already satisfied: pyyaml>=5.1 in /Library/Frameworks/Python.framework/Versions/3.9/lib/python3.9/site-packages (from transformers) (6.0)\n",
      "Requirement already satisfied: regex!=2019.12.17 in /Library/Frameworks/Python.framework/Versions/3.9/lib/python3.9/site-packages (from transformers) (2022.4.24)\n",
      "Requirement already satisfied: requests in /Library/Frameworks/Python.framework/Versions/3.9/lib/python3.9/site-packages (from transformers) (2.27.1)\n",
      "Requirement already satisfied: tokenizers!=0.11.3,<0.14,>=0.11.1 in /Library/Frameworks/Python.framework/Versions/3.9/lib/python3.9/site-packages (from transformers) (0.13.2)\n",
      "Requirement already satisfied: tqdm>=4.27 in /Library/Frameworks/Python.framework/Versions/3.9/lib/python3.9/site-packages (from transformers) (4.63.1)\n",
      "Requirement already satisfied: typing-extensions>=3.7.4.3 in /Library/Frameworks/Python.framework/Versions/3.9/lib/python3.9/site-packages (from huggingface-hub<1.0,>=0.10.0->transformers) (4.4.0)\n",
      "Requirement already satisfied: pyparsing!=3.0.5,>=2.0.2 in /Library/Frameworks/Python.framework/Versions/3.9/lib/python3.9/site-packages (from packaging>=20.0->transformers) (3.0.7)\n",
      "Requirement already satisfied: urllib3<1.27,>=1.21.1 in /Library/Frameworks/Python.framework/Versions/3.9/lib/python3.9/site-packages (from requests->transformers) (1.26.16)\n",
      "Requirement already satisfied: certifi>=2017.4.17 in /Library/Frameworks/Python.framework/Versions/3.9/lib/python3.9/site-packages (from requests->transformers) (2022.9.24)\n",
      "Requirement already satisfied: charset-normalizer~=2.0.0 in /Library/Frameworks/Python.framework/Versions/3.9/lib/python3.9/site-packages (from requests->transformers) (2.0.10)\n",
      "Requirement already satisfied: idna<4,>=2.5 in /Library/Frameworks/Python.framework/Versions/3.9/lib/python3.9/site-packages (from requests->transformers) (3.3)\n"
     ]
    }
   ],
   "source": [
    "!pip install transformers"
   ]
  },
  {
   "cell_type": "code",
   "execution_count": 14,
   "id": "5e37f2f9",
   "metadata": {},
   "outputs": [],
   "source": [
    "from transformers import BertTokenizer\n",
    "from transformers import RobertaTokenizer"
   ]
  },
  {
   "cell_type": "code",
   "execution_count": 15,
   "id": "452fe91c",
   "metadata": {},
   "outputs": [],
   "source": [
    "path = '/Users/alua/Desktop/work_study/DiplomaMSAI/workspace0/phoenix_need.csv'"
   ]
  },
  {
   "cell_type": "code",
   "execution_count": 16,
   "id": "7bf79d53",
   "metadata": {},
   "outputs": [],
   "source": [
    "# prepare the WordPunctTokenizer for target \n",
    "tokenizer_W = WordPunctTokenizer()\n",
    "\n",
    "def tokenize1(x, tokenizer=tokenizer_W):\n",
    "    return tokenizer.tokenize(x.lower())"
   ]
  },
  {
   "cell_type": "code",
   "execution_count": 17,
   "id": "91015dd4",
   "metadata": {},
   "outputs": [],
   "source": [
    "# prepare the ElectraTokenizer for target \n",
    "from transformers import ElectraTokenizer\n",
    "\n",
    "tokenizer_B = ElectraTokenizer.from_pretrained(\"google/electra-small-discriminator\")\n",
    "\n",
    "def tokenize2(x, tokenizer=tokenizer_B):\n",
    "    return tokenizer.tokenize(x)"
   ]
  },
  {
   "cell_type": "code",
   "execution_count": 18,
   "id": "33576528",
   "metadata": {},
   "outputs": [],
   "source": [
    "SRC = Field(tokenize=tokenize2,\n",
    "            init_token = '<sos>', \n",
    "            eos_token = '<eos>', \n",
    "            lower = True)\n",
    "\n",
    "TRG = Field(tokenize=tokenize1,\n",
    "            init_token = '<sos>', \n",
    "            eos_token = '<eos>', \n",
    "            lower = True)\n"
   ]
  },
  {
   "cell_type": "code",
   "execution_count": 19,
   "id": "770dde9e",
   "metadata": {},
   "outputs": [],
   "source": [
    "dataset = TabularDataset(\n",
    "    path=path,\n",
    "    format='tsv',\n",
    "    fields=[('trg', TRG), ('src', SRC)]\n",
    ")"
   ]
  },
  {
   "cell_type": "code",
   "execution_count": 20,
   "id": "8201da07",
   "metadata": {},
   "outputs": [],
   "source": [
    "import random\n"
   ]
  },
  {
   "cell_type": "code",
   "execution_count": 21,
   "id": "c95070e4",
   "metadata": {},
   "outputs": [],
   "source": [
    "# split the dataset into training, validation, and test sets\n",
    "train_data, test_data, valid_data, = dataset.split(split_ratio=[0.7, 0.15, 0.15], stratified=False, random_state=random.seed(42))"
   ]
  },
  {
   "cell_type": "code",
   "execution_count": 22,
   "id": "c8498100",
   "metadata": {},
   "outputs": [
    {
     "name": "stdout",
     "output_type": "stream",
     "text": [
      "Number of training examples: 5781\n",
      "Number of validation examples: 1239\n",
      "Number of testing examples: 1238\n"
     ]
    }
   ],
   "source": [
    "print(f\"Number of training examples: {len(train_data.examples)}\")\n",
    "print(f\"Number of validation examples: {len(valid_data.examples)}\")\n",
    "print(f\"Number of testing examples: {len(test_data.examples)}\")"
   ]
  },
  {
   "cell_type": "code",
   "execution_count": 23,
   "id": "80aa2108",
   "metadata": {},
   "outputs": [],
   "source": [
    "SRC.build_vocab(train_data, min_freq = 3)\n",
    "TRG.build_vocab(train_data, min_freq = 3)"
   ]
  },
  {
   "cell_type": "code",
   "execution_count": 24,
   "id": "b6be3ccd",
   "metadata": {},
   "outputs": [
    {
     "name": "stdout",
     "output_type": "stream",
     "text": [
      "Unique tokens in source (origin) vocabulary: 647\n",
      "Unique tokens in target (gloss) vocabulary: 1327\n"
     ]
    }
   ],
   "source": [
    "print(f\"Unique tokens in source (origin) vocabulary: {len(SRC.vocab)}\")\n",
    "print(f\"Unique tokens in target (gloss) vocabulary: {len(TRG.vocab)}\")"
   ]
  },
  {
   "cell_type": "code",
   "execution_count": 25,
   "id": "2e09d62f",
   "metadata": {},
   "outputs": [
    {
     "data": {
      "text/plain": [
       "['<unk>']"
      ]
     },
     "execution_count": 25,
     "metadata": {},
     "output_type": "execute_result"
    }
   ],
   "source": [
    "SRC.vocab.itos[::1000]"
   ]
  },
  {
   "cell_type": "code",
   "execution_count": 26,
   "id": "f5099174",
   "metadata": {},
   "outputs": [
    {
     "data": {
      "text/plain": [
       "['<unk>', 'selbst']"
      ]
     },
     "execution_count": 26,
     "metadata": {},
     "output_type": "execute_result"
    }
   ],
   "source": [
    "TRG.vocab.itos[::1000]"
   ]
  },
  {
   "cell_type": "code",
   "execution_count": 27,
   "id": "a4ee40b5",
   "metadata": {},
   "outputs": [
    {
     "name": "stdout",
     "output_type": "stream",
     "text": [
      "{'trg': ['regen', 'und', 'schnee', 'lassen', 'an', 'den', 'alpen', 'in', 'der', 'nacht', 'nach', 'im', 'norden', 'und', 'nordosten', 'fallen', 'hier', 'und', 'da', 'schauer', 'sonst', 'ist', 'das', 'klar'], 'src': ['reg', '##en', 'sc', '##hn', '##ee', 'region', 've', '##rs', '##ch', '##wind', '##en', 'nord', 'reg', '##en', 'ko', '##enne', '##n', 'region', 'stern', 'ko', '##enne', '##n', 'se', '##hen']}\n"
     ]
    }
   ],
   "source": [
    "print(vars(train_data.examples[9]))"
   ]
  },
  {
   "cell_type": "code",
   "execution_count": 28,
   "id": "d886b7ce",
   "metadata": {},
   "outputs": [
    {
     "name": "stdout",
     "output_type": "stream",
     "text": [
      "Average Source Sentence Length: 17.45649541601799\n",
      "Average Target Sentence Length: 13.75748140460128\n",
      "Length distribution in Train data\n"
     ]
    },
    {
     "data": {
      "image/png": "[encoded data removed]",
      "text/plain": [
       "<Figure size 576x288 with 2 Axes>"
      ]
     },
     "metadata": {
      "needs_background": "light"
     },
     "output_type": "display_data"
    }
   ],
   "source": [
    "src_lengths = [len(vars(x)['src']) for x in train_data.examples]\n",
    "trg_lengths = [len(vars(x)['trg']) for x in train_data.examples]\n",
    "\n",
    "avg_src_length = sum(src_lengths) / len(src_lengths)\n",
    "avg_trg_length = sum(trg_lengths) / len(trg_lengths)\n",
    "\n",
    "print('Average Source Sentence Length:', avg_src_length)\n",
    "print('Average Target Sentence Length:', avg_trg_length)\n",
    "\n",
    "print('Length distribution in Train data')\n",
    "plt.figure(figsize=[8, 4])\n",
    "plt.subplot(1, 2, 1)\n",
    "plt.title(\"Source length\")\n",
    "plt.hist(src_lengths, bins=20)\n",
    "plt.xlabel(\"Sentence length\")\n",
    "plt.ylabel(\"Frequency\")\n",
    "\n",
    "plt.subplot(1, 2, 2)\n",
    "plt.title(\"Translation length\")\n",
    "plt.hist(trg_lengths, bins=20)\n",
    "plt.xlabel(\"Sentence length\")\n",
    "plt.ylabel(\"Frequency\")\n",
    "\n",
    "plt.tight_layout()\n",
    "plt.show()\n",
    "\n"
   ]
  },
  {
   "cell_type": "code",
   "execution_count": 29,
   "id": "3e49cf43",
   "metadata": {},
   "outputs": [
    {
     "name": "stdout",
     "output_type": "stream",
     "text": [
      "Average Source Sentence Length: 17.67043618739903\n",
      "Average Target Sentence Length: 13.962843295638127\n",
      "Length distribution in Test data\n"
     ]
    },
    {
     "data": {
      "image/png": "[encoded data removed]",
      "text/plain": [
       "<Figure size 576x288 with 2 Axes>"
      ]
     },
     "metadata": {
      "needs_background": "light"
     },
     "output_type": "display_data"
    }
   ],
   "source": [
    "src_lengths = [len(vars(x)['src']) for x in test_data.examples]\n",
    "trg_lengths = [len(vars(x)['trg']) for x in test_data.examples]\n",
    "\n",
    "avg_src_length = sum(src_lengths) / len(src_lengths)\n",
    "avg_trg_length = sum(trg_lengths) / len(trg_lengths)\n",
    "\n",
    "print('Average Source Sentence Length:', avg_src_length)\n",
    "print('Average Target Sentence Length:', avg_trg_length)\n",
    "\n",
    "print('Length distribution in Test data')\n",
    "plt.figure(figsize=[8, 4])\n",
    "plt.subplot(1, 2, 1)\n",
    "plt.title(\"Source length\")\n",
    "plt.hist(src_lengths, bins=20)\n",
    "plt.xlabel(\"Sentence length\")\n",
    "plt.ylabel(\"Frequency\")\n",
    "\n",
    "plt.subplot(1, 2, 2)\n",
    "plt.title(\"Translation length\")\n",
    "plt.hist(trg_lengths, bins=20)\n",
    "plt.xlabel(\"Sentence length\")\n",
    "plt.ylabel(\"Frequency\")\n",
    "\n",
    "plt.tight_layout()\n",
    "plt.show()\n"
   ]
  },
  {
   "cell_type": "code",
   "execution_count": 30,
   "id": "405ca075",
   "metadata": {},
   "outputs": [
    {
     "data": {
      "text/plain": [
       "device(type='cpu')"
      ]
     },
     "execution_count": 30,
     "metadata": {},
     "output_type": "execute_result"
    }
   ],
   "source": [
    "device = torch.device('cuda' if torch.cuda.is_available() else 'cpu')\n",
    "device"
   ]
  },
  {
   "cell_type": "code",
   "execution_count": 31,
   "id": "e1a0cf77",
   "metadata": {},
   "outputs": [],
   "source": [
    "def _len_sort_key(x):\n",
    "    return len(x.src)\n",
    "\n",
    "BATCH_SIZE = 16\n",
    "\n",
    "train_iterator, valid_iterator, test_iterator = BucketIterator.splits(\n",
    "    (train_data, valid_data, test_data), \n",
    "    batch_size = BATCH_SIZE, \n",
    "    device = device,\n",
    "    sort_key=_len_sort_key\n",
    ")"
   ]
  },
  {
   "cell_type": "code",
   "execution_count": 32,
   "id": "b530b0f7",
   "metadata": {},
   "outputs": [
    {
     "name": "stdout",
     "output_type": "stream",
     "text": [
      "\n",
      "[torchtext.legacy.data.batch.Batch of size 16]\n",
      "\t[.trg]:[torch.LongTensor of size 39x16]\n",
      "\t[.src]:[torch.LongTensor of size 47x16]\n",
      "torch.Size([47, 16]) torch.Size([39, 16])\n"
     ]
    }
   ],
   "source": [
    "for x in train_iterator:\n",
    "    break\n",
    "print(x)\n",
    "print(x.src.shape, x.trg.shape)"
   ]
  },
  {
   "cell_type": "code",
   "execution_count": 33,
   "id": "73ee2aad",
   "metadata": {},
   "outputs": [],
   "source": [
    "import torch\n",
    "import torch.nn as nn\n",
    "import torch.optim as optim\n",
    "\n",
    "import torchtext\n",
    "\n",
    "import random\n",
    "import math\n",
    "import time\n",
    "import torch.nn.functional as F\n",
    "\n",
    "class Encoder(nn.Module):\n",
    "    def __init__(self, input_dim, emb_dim, hid_dim, n_layers, dropout):\n",
    "        super().__init__()\n",
    "        self.input_dim = input_dim\n",
    "        self.emb_dim = emb_dim\n",
    "        self.hid_dim = hid_dim\n",
    "        self.n_layers = n_layers\n",
    "        \n",
    "        self.embedding = nn.Embedding(\n",
    "            num_embeddings=input_dim,\n",
    "            embedding_dim=emb_dim\n",
    "        )\n",
    "        self.rnn = nn.LSTM(\n",
    "            input_size=emb_dim,\n",
    "            hidden_size=hid_dim,\n",
    "            num_layers=n_layers,\n",
    "            dropout=dropout\n",
    "        )\n",
    "        self.dropout = nn.Dropout(p=dropout)\n",
    "    \n",
    "        \n",
    "    def forward(self, src):\n",
    "        #src = [src sent len, batch size]\n",
    "        src = src.transpose(0, 1)\n",
    "        # Compute an embedding from the src data and apply dropout to it\n",
    "        embedded = self.dropout(self.embedding(src)).transpose(0, 1)\n",
    "        enc_output, (hidden, cell) = self.rnn(embedded)\n",
    "        return hidden, cell\n",
    "\n",
    "\n",
    "class Decoder(nn.Module):\n",
    "    def __init__(self, output_dim, emb_dim, hid_dim, n_layers, dropout):\n",
    "        super().__init__()\n",
    "        self.output_dim = output_dim\n",
    "        self.emb_dim = emb_dim\n",
    "        self.hid_dim = hid_dim\n",
    "        self.n_layers = n_layers\n",
    "        self.dropout = dropout\n",
    "        \n",
    "        self.embedding = nn.Embedding(\n",
    "            num_embeddings=output_dim,\n",
    "            embedding_dim=emb_dim\n",
    "        )        \n",
    "        self.rnn = nn.LSTM(\n",
    "            input_size=emb_dim,\n",
    "            hidden_size=hid_dim,\n",
    "            num_layers=n_layers,\n",
    "            dropout=dropout\n",
    "        )        \n",
    "        self.fc_out = nn.Linear(hid_dim, output_dim)\n",
    "        self.dropout = nn.Dropout(p=dropout)\n",
    "        \n",
    "    def forward(self, dec_input, hidden, cell):\n",
    "        # dec_input = [batch_size, 1]\n",
    "        dec_input = dec_input.unsqueeze(1) \n",
    "        # embedded = [1, batch size, emb dim]\n",
    "        embedded = self.dropout(self.embedding(dec_input)).transpose(0, 1)\n",
    "        hidden = hidden[0:2,:,:]\n",
    "        output, (hidden, cell) = self.rnn(embedded, (hidden, cell))\n",
    "        prediction = self.fc_out(output.squeeze(0))\n",
    "        return prediction, cell\n",
    "\n",
    "\n",
    "class Seq2Seq(nn.Module):\n",
    "    def __init__(self, encoder, decoder, device):\n",
    "        super().__init__()\n",
    "        self.encoder = encoder\n",
    "        self.decoder = decoder\n",
    "        self.device = device\n",
    "        assert encoder.hid_dim == decoder.hid_dim, \\\n",
    "            \"Hidden dimensions of encoder and decoder must be equal!\"\n",
    "        assert encoder.n_layers == decoder.n_layers, \\\n",
    "            \"Encoder and decoder must have equal number of layers!\"\n",
    "\n",
    "    def forward(self, src, trg, teacher_forcing_ratio = 0.5):\n",
    "        \n",
    "        batch_size = src.shape[1]\n",
    "        max_len = trg.shape[0]\n",
    "        trg_vocab_size = self.decoder.output_dim\n",
    "        #tensor to store decoder outputs\n",
    "        outputs = torch.zeros(max_len, batch_size, trg_vocab_size).to(self.device)\n",
    "        #last hidden state of the encoder is used as the initial hidden state of the decoder\n",
    "        hidden, cell = self.encoder(src)\n",
    "        #first input to the decoder is the <sos> tokens\n",
    "        dec_input = trg[0,:]\n",
    "        for t in range(1, max_len): \n",
    "            output, cell = self.decoder(dec_input, hidden, cell)\n",
    "            outputs[t] = output\n",
    "            teacher_force = random.random() < teacher_forcing_ratio\n",
    "            top1 = output.argmax(1) \n",
    "            dec_input = (trg[t] if teacher_force else top1)\n",
    "        return outputs\n",
    "    "
   ]
  },
  {
   "cell_type": "code",
   "execution_count": 34,
   "id": "c6d428d6",
   "metadata": {},
   "outputs": [],
   "source": [
    "INPUT_DIM = len(SRC.vocab)\n",
    "OUTPUT_DIM = len(TRG.vocab)\n",
    "ENC_EMB_DIM = 128\n",
    "DEC_EMB_DIM = 128\n",
    "HID_DIM = 256\n",
    "N_LAYERS = 2\n",
    "ENC_DROPOUT = 0.5\n",
    "DEC_DROPOUT = 0.5"
   ]
  },
  {
   "cell_type": "code",
   "execution_count": 35,
   "id": "32237841",
   "metadata": {},
   "outputs": [],
   "source": [
    "enc = Encoder(INPUT_DIM, ENC_EMB_DIM, HID_DIM, N_LAYERS, ENC_DROPOUT)\n",
    "dec = Decoder(OUTPUT_DIM, DEC_EMB_DIM, HID_DIM, N_LAYERS, DEC_DROPOUT)\n",
    "\n",
    "# dont forget to put the model to the right device\n",
    "model = Seq2Seq(enc, dec, device).to(device)"
   ]
  },
  {
   "cell_type": "code",
   "execution_count": 36,
   "id": "efe3c45e",
   "metadata": {},
   "outputs": [],
   "source": [
    "def init_weights(m):\n",
    "    for name, param in m.named_parameters():\n",
    "        nn.init.uniform_(param, -0.08, 0.08)"
   ]
  },
  {
   "cell_type": "code",
   "execution_count": 37,
   "id": "f2ea7b81",
   "metadata": {},
   "outputs": [
    {
     "data": {
      "text/plain": [
       "Seq2Seq(\n",
       "  (encoder): Encoder(\n",
       "    (embedding): Embedding(647, 128)\n",
       "    (rnn): LSTM(128, 256, num_layers=2, dropout=0.5)\n",
       "    (dropout): Dropout(p=0.5, inplace=False)\n",
       "  )\n",
       "  (decoder): Decoder(\n",
       "    (embedding): Embedding(1327, 128)\n",
       "    (rnn): LSTM(128, 256, num_layers=2, dropout=0.5)\n",
       "    (fc_out): Linear(in_features=256, out_features=1327, bias=True)\n",
       "    (dropout): Dropout(p=0.5, inplace=False)\n",
       "  )\n",
       ")"
      ]
     },
     "execution_count": 37,
     "metadata": {},
     "output_type": "execute_result"
    }
   ],
   "source": [
    "model.apply(init_weights)"
   ]
  },
  {
   "cell_type": "code",
   "execution_count": 38,
   "id": "3d91bd7a",
   "metadata": {},
   "outputs": [],
   "source": [
    "def count_parameters(model):\n",
    "    return sum(p.numel() for p in model.parameters() if p.requires_grad)"
   ]
  },
  {
   "cell_type": "code",
   "execution_count": 39,
   "id": "288100cb",
   "metadata": {},
   "outputs": [
    {
     "name": "stdout",
     "output_type": "stream",
     "text": [
      "The model has 2,436,911 trainable parameters\n"
     ]
    }
   ],
   "source": [
    "print(f'The model has {count_parameters(model):,} trainable parameters')"
   ]
  },
  {
   "cell_type": "code",
   "execution_count": 40,
   "id": "587ea945",
   "metadata": {},
   "outputs": [],
   "source": [
    "PAD_IDX = TRG.vocab.stoi['<pad>']\n",
    "criterion = nn.CrossEntropyLoss(ignore_index = PAD_IDX)\n",
    "optimizer = optim.Adam(model.parameters())\n"
   ]
  },
  {
   "cell_type": "code",
   "execution_count": 41,
   "id": "933254dc",
   "metadata": {},
   "outputs": [],
   "source": [
    "def train(model, iterator, optimizer, criterion, clip, train_history=None, valid_history=None):\n",
    "    model.train()\n",
    "    epoch_loss = 0\n",
    "    history = []\n",
    "    for i, batch in enumerate(iterator):\n",
    "        src = batch.src\n",
    "        trg = batch.trg\n",
    "        optimizer.zero_grad()\n",
    "        output = model(src, trg)\n",
    "        # trg = [trg sent len, batch size]\n",
    "        # output = [trg sent len, batch size, output dim]\n",
    "        output = output[1:].view(-1, output.shape[-1])\n",
    "        trg = trg[1:].view(-1)\n",
    "        # trg = [(trg sent len - 1) * batch size]\n",
    "        # output = [(trg sent len - 1) * batch size, output dim]\n",
    "        loss = criterion(output, trg)\n",
    "        loss.backward()\n",
    "        # Let's clip the gradient\n",
    "        torch.nn.utils.clip_grad_norm_(model.parameters(), clip)\n",
    "        optimizer.step()\n",
    "        epoch_loss += loss.item()\n",
    "        history.append(loss.cpu().data.numpy())\n",
    "        if (i+1)%10==0:\n",
    "            fig, ax = plt.subplots(nrows=1, ncols=2, figsize=(12, 8))\n",
    "            clear_output(True)\n",
    "            ax[0].plot(history, label='train loss')\n",
    "            ax[0].set_xlabel('Batch')\n",
    "            ax[0].set_title('Train loss')\n",
    "            if train_history is not None:\n",
    "                ax[1].plot(train_history, label='general train history')\n",
    "                ax[1].set_xlabel('Epoch')\n",
    "            if valid_history is not None:\n",
    "                ax[1].plot(valid_history, label='general valid history')\n",
    "            plt.legend()\n",
    "            plt.show()\n",
    "    return epoch_loss / len(iterator)\n"
   ]
  },
  {
   "cell_type": "code",
   "execution_count": 42,
   "id": "74f7ce83",
   "metadata": {},
   "outputs": [],
   "source": [
    "def evaluate(model, iterator, criterion):\n",
    "    model.eval()\n",
    "    epoch_loss = 0\n",
    "    history = []\n",
    "    with torch.no_grad():\n",
    "        for i, batch in enumerate(iterator):\n",
    "            src = batch.src\n",
    "            trg = batch.trg\n",
    "            # turn off teacher forcing\n",
    "            output = model(src, trg, 0)\n",
    "            # trg = [trg sent len, batch size]\n",
    "            # output = [trg sent len, batch size, output dim]\n",
    "            output = output[1:].view(-1, output.shape[-1])\n",
    "            trg = trg[1:].view(-1)\n",
    "            #trg = [(trg sent len - 1) * batch size]\n",
    "            #output = [(trg sent len - 1) * batch size, output dim]\n",
    "            loss = criterion(output, trg)\n",
    "            epoch_loss += loss.item()\n",
    "    return epoch_loss / len(iterator)"
   ]
  },
  {
   "cell_type": "code",
   "execution_count": 43,
   "id": "0640be44",
   "metadata": {},
   "outputs": [],
   "source": [
    "def epoch_time(start_time, end_time):\n",
    "    elapsed_time = end_time - start_time\n",
    "    elapsed_mins = int(elapsed_time / 60)\n",
    "    elapsed_secs = int(elapsed_time - (elapsed_mins * 60))\n",
    "    return elapsed_mins, elapsed_secs"
   ]
  },
  {
   "cell_type": "code",
   "execution_count": 44,
   "id": "0f0b257a",
   "metadata": {},
   "outputs": [],
   "source": [
    "train_history = []\n",
    "valid_history = []\n",
    "N_EPOCHS = 15\n",
    "CLIP = 1\n",
    "best_valid_loss = float('inf')"
   ]
  },
  {
   "cell_type": "code",
   "execution_count": 45,
   "id": "1bd4375c",
   "metadata": {},
   "outputs": [
    {
     "data": {
      "image/png": "[encoded data removed]",
      "text/plain": [
       "<Figure size 864x576 with 2 Axes>"
      ]
     },
     "metadata": {
      "needs_background": "light"
     },
     "output_type": "display_data"
    },
    {
     "name": "stdout",
     "output_type": "stream",
     "text": [
      "Epoch: 15 | Time: 1m 56s\n",
      "\tTrain Loss: 3.545 | Train PPL:  34.655\n",
      "\t Val. Loss: 4.604 |  Val. PPL:  99.881\n"
     ]
    }
   ],
   "source": [
    "for epoch in range(N_EPOCHS):\n",
    "    start_time = time.time()\n",
    "    train_loss = train(model, train_iterator, optimizer, criterion, CLIP, train_history, valid_history)\n",
    "    valid_loss = evaluate(model, valid_iterator, criterion)\n",
    "    end_time = time.time()\n",
    "    epoch_mins, epoch_secs = epoch_time(start_time, end_time)\n",
    "    if valid_loss < best_valid_loss:\n",
    "        best_valid_loss = valid_loss\n",
    "        torch.save(model.state_dict(), 'tut1-model.pt')\n",
    "    train_history.append(train_loss)\n",
    "    valid_history.append(valid_loss)\n",
    "    print(f'Epoch: {epoch+1:02} | Time: {epoch_mins}m {epoch_secs}s')\n",
    "    print(f'\\tTrain Loss: {train_loss:.3f} | Train PPL: {math.exp(train_loss):7.3f}')\n",
    "    print(f'\\t Val. Loss: {valid_loss:.3f} |  Val. PPL: {math.exp(valid_loss):7.3f}')"
   ]
  },
  {
   "cell_type": "code",
   "execution_count": 46,
   "id": "ca7eecd1",
   "metadata": {},
   "outputs": [],
   "source": [
    "import utils\n",
    "import imp"
   ]
  },
  {
   "cell_type": "code",
   "execution_count": 47,
   "id": "be53bd0d",
   "metadata": {},
   "outputs": [],
   "source": [
    "imp.reload(utils)\n",
    "generate_translation = utils.generate_translation\n",
    "remove_tech_tokens = utils.remove_tech_tokens\n",
    "get_text = utils.get_text\n",
    "flatten = utils.flatten"
   ]
  },
  {
   "cell_type": "code",
   "execution_count": 48,
   "id": "343405e5",
   "metadata": {},
   "outputs": [],
   "source": [
    "batch = next(iter(test_iterator))"
   ]
  },
  {
   "cell_type": "code",
   "execution_count": 49,
   "id": "362ac9f1",
   "metadata": {},
   "outputs": [
    {
     "name": "stdout",
     "output_type": "stream",
     "text": [
      "Original: tiefer luftdruck bestimmt unser wetter\n",
      "Generated: das war es morgen morgen\n",
      "\n",
      "Original: und morgen wird es wieder verbreitet sonnig\n",
      "Generated: morgen morgen die sonne\n",
      "\n"
     ]
    }
   ],
   "source": [
    "for idx in [1,2]:\n",
    "    src = batch.src[:, idx:idx+1]\n",
    "    trg = batch.trg[:, idx:idx+1]\n",
    "    generate_translation(src, trg, model, TRG.vocab)"
   ]
  },
  {
   "cell_type": "code",
   "execution_count": 50,
   "id": "7ce7cf10",
   "metadata": {},
   "outputs": [],
   "source": [
    "import tqdm"
   ]
  },
  {
   "cell_type": "code",
   "execution_count": 51,
   "id": "96f4adf7",
   "metadata": {},
   "outputs": [
    {
     "name": "stderr",
     "output_type": "stream",
     "text": [
      "78it [00:04, 16.63it/s]\n"
     ]
    }
   ],
   "source": [
    "original_text = []\n",
    "generated_text = []\n",
    "model.eval()\n",
    "with torch.no_grad():\n",
    "\n",
    "    for i, batch in tqdm.tqdm(enumerate(test_iterator)):\n",
    "\n",
    "        src = batch.src\n",
    "        trg = batch.trg\n",
    "\n",
    "        output = model(src, trg, 0) #turn off teacher forcing\n",
    "\n",
    "        #trg = [trg sent len, batch size]\n",
    "        #output = [trg sent len, batch size, output dim]\n",
    "\n",
    "        output = output.argmax(dim=-1)\n",
    "        \n",
    "        original_text.extend([get_text(x, TRG.vocab) for x in trg.cpu().numpy().T])\n",
    "        generated_text.extend([get_text(x, TRG.vocab) for x in output[1:].detach().cpu().numpy().T])\n",
    "\n",
    "# original_text = flatten(original_text)\n",
    "# generated_text = flatten(generated_text)"
   ]
  },
  {
   "cell_type": "code",
   "execution_count": 52,
   "id": "eb49963f",
   "metadata": {},
   "outputs": [
    {
     "data": {
      "text/plain": [
       "8.275534630575496"
      ]
     },
     "execution_count": 52,
     "metadata": {},
     "output_type": "execute_result"
    }
   ],
   "source": [
    "from nltk.translate.bleu_score import corpus_bleu\n",
    "# Calculate BLEU-4\n",
    "corpus_bleu([[text] for text in original_text], generated_text) * 100"
   ]
  },
  {
   "cell_type": "code",
   "execution_count": 53,
   "id": "4cb21a77",
   "metadata": {},
   "outputs": [
    {
     "name": "stdout",
     "output_type": "stream",
     "text": [
      "BLEU-1: 26.90\n",
      "BLEU-2: 16.80\n",
      "BLEU-3: 11.50\n"
     ]
    }
   ],
   "source": [
    "# Calculate BLEU-1\n",
    "bleu1_score = corpus_bleu([[text] for text in original_text], generated_text, weights=(1, 0, 0, 0)) * 100\n",
    "\n",
    "# Calculate BLEU-2\n",
    "bleu2_score = corpus_bleu([[text] for text in original_text], generated_text, weights=(0.5, 0.5, 0, 0)) * 100\n",
    "\n",
    "# Calculate BLEU-3\n",
    "bleu3_score = corpus_bleu([[text] for text in original_text], generated_text, weights=(0.33, 0.33, 0.33, 0)) * 100\n",
    "\n",
    "print(f\"BLEU-1: {bleu1_score:.2f}\")\n",
    "print(f\"BLEU-2: {bleu2_score:.2f}\")\n",
    "print(f\"BLEU-3: {bleu3_score:.2f}\")"
   ]
  },
  {
   "cell_type": "code",
   "execution_count": 54,
   "id": "825aad1c",
   "metadata": {},
   "outputs": [],
   "source": [
    "# !pip install rouge"
   ]
  },
  {
   "cell_type": "code",
   "execution_count": 56,
   "id": "0a0958c7",
   "metadata": {},
   "outputs": [],
   "source": [
    "from rouge import Rouge\n",
    "\n",
    "def calculate_rouge_scores(original_text, generated_text):\n",
    "    rouge = Rouge()\n",
    "    scores = rouge.get_scores(generated_text, original_text)\n",
    "    return scores\n",
    "\n",
    "rouge_scores = []\n",
    "for original, generated in zip(original_text, generated_text):\n",
    "    original_str = ' '.join(original)\n",
    "    generated_str = ' '.join(generated)\n",
    "    if generated and original is not None:\n",
    "        scores = calculate_rouge_scores(original_str, generated_str)\n",
    "        rouge_scores.append(scores)\n"
   ]
  },
  {
   "cell_type": "code",
   "execution_count": 57,
   "id": "21ec95f3",
   "metadata": {},
   "outputs": [
    {
     "name": "stdout",
     "output_type": "stream",
     "text": [
      "Average ROUGE scores:\n",
      "{'rouge-1': {'r': 0.2953222698269863, 'p': 0.4292442912677776, 'f': 0.33789181404879814}, 'rouge-2': {'r': 0.12445529050548712, 'p': 0.1604993371639496, 'f': 0.13568413757970535}, 'rouge-l': {'r': 0.2753135659966476, 'p': 0.39886342868745706, 'f': 0.314283294254187}}\n"
     ]
    }
   ],
   "source": [
    "def calculate_average_rouge_scores(rouge_scores):\n",
    "    num_pairs = len(rouge_scores)\n",
    "    avg_rouge_scores = {\n",
    "        'rouge-1': {'r': 0.0, 'p': 0.0, 'f': 0.0},\n",
    "        'rouge-2': {'r': 0.0, 'p': 0.0, 'f': 0.0},\n",
    "        'rouge-l': {'r': 0.0, 'p': 0.0, 'f': 0.0}\n",
    "    }\n",
    "    for scores in rouge_scores:\n",
    "        for metric in avg_rouge_scores:\n",
    "            for key in ['r', 'p', 'f']:\n",
    "                avg_rouge_scores[metric][key] += scores[0][metric][key]\n",
    "    for metric in avg_rouge_scores:\n",
    "        for key in ['r', 'p', 'f']:\n",
    "            avg_rouge_scores[metric][key] /= num_pairs\n",
    "    return avg_rouge_scores\n",
    "\n",
    "\n",
    "rouge_scores = []\n",
    "for original, generated in zip(original_text, generated_text):\n",
    "    original_str = ' '.join(original)\n",
    "    generated_str = ' '.join(generated)\n",
    "    if generated and original is not None:\n",
    "        scores = calculate_rouge_scores(original_str, generated_str)\n",
    "        rouge_scores.append(scores)\n",
    "\n",
    "# Calculate average ROUGE scores\n",
    "avg_rouge_scores = calculate_average_rouge_scores(rouge_scores)\n",
    "\n",
    "# Access average ROUGE scores\n",
    "print(\"Average ROUGE scores:\")\n",
    "print(avg_rouge_scores)\n"
   ]
  },
  {
   "cell_type": "markdown",
   "id": "fb2d85bc",
   "metadata": {},
   "source": [
    "### Second method, ENC-DEC model with attention and biderectional GRU"
   ]
  },
  {
   "cell_type": "code",
   "execution_count": 58,
   "id": "46821e66",
   "metadata": {},
   "outputs": [],
   "source": [
    "class Attention(nn.Module):\n",
    "    def __init__(self, hid_dim):\n",
    "        super().__init__()\n",
    "        self.attn = nn.Linear((hid_dim * 2) + hid_dim, hid_dim, bias=False)\n",
    "        self.v = nn.Linear(hid_dim, 1, bias = False)\n",
    "\n",
    "    def forward(self, s, enc_output):\n",
    "        # s = [batch_size, hid_dim]\n",
    "        # enc_output = [src_len, batch_size, hid_dim * 2]\n",
    "        batch_size = enc_output.shape[1]\n",
    "        src_len = enc_output.shape[0]\n",
    "        # repeat decoder hidden state src_len times\n",
    "        # s = [batch_size, src_len, hid_dim]\n",
    "        # enc_output = [batch_size, src_len, hid_dim * 2]\n",
    "        s = s.unsqueeze(1).repeat(1, src_len, 1)\n",
    "        enc_output = enc_output.transpose(0, 1)\n",
    "        # energy = [batch_size, src_len, hid_dim]\n",
    "        energy = torch.tanh(self.attn(torch.cat((s, enc_output), dim = 2)))\n",
    "        # attention = [batch_size, src_len]\n",
    "        attention = self.v(energy).squeeze(2)\n",
    "        return F.softmax(attention, dim=1)"
   ]
  },
  {
   "cell_type": "code",
   "execution_count": 59,
   "id": "33348624",
   "metadata": {},
   "outputs": [],
   "source": [
    "import torch\n",
    "import torch.nn as nn\n",
    "import torch.optim as optim\n",
    "import torchtext\n",
    "import random\n",
    "import math\n",
    "import time\n",
    "import torch.nn.functional as F\n",
    "\n",
    "\n",
    "class Encoder(nn.Module):\n",
    "    def __init__(self, input_dim, emb_dim, hid_dim, n_layers, dropout):\n",
    "        super().__init__()\n",
    "        self.input_dim = input_dim\n",
    "        self.emb_dim = emb_dim\n",
    "        self.hid_dim = hid_dim\n",
    "        self.n_layers = n_layers\n",
    "        self.embedding = nn.Embedding(\n",
    "            num_embeddings=input_dim,\n",
    "            embedding_dim=emb_dim\n",
    "        )\n",
    "        self.rnnGRU = nn.GRU(emb_dim, hid_dim, bidirectional = True)        \n",
    "        self.fc = nn.Linear(hid_dim * 2, hid_dim)        \n",
    "        self.dropout = nn.Dropout(p=dropout)\n",
    "       \n",
    "    def forward(self, src):\n",
    "        #src = [src sent len, batch size]\n",
    "        src = src.transpose(0, 1)\n",
    "        # Compute an embedding from the src data and apply dropout to it\n",
    "        #embedded = [src sent len, batch size, emb dim]\n",
    "        embedded = self.dropout(self.embedding(src)).transpose(0, 1)\n",
    "        # Compute the RNN output values of the encoder RNN. \n",
    "        # outputs, hidden and cell should be initialized here\n",
    "        # outputs = [src sent len, batch size, hid dim * n directions]\n",
    "        enc_output, enc_hidden = self.rnnGRU(embedded)\n",
    "        # hidden = [n layers * n directions, batch size, hid dim]\n",
    "        # cell = [n layers * n directions, batch size, hid dim]\n",
    "        cell = torch.tanh(self.fc(torch.cat((enc_hidden[-2,:,:], enc_hidden[-1,:,:]), dim = 1)))\n",
    "        # outputs are always from the top hidden layer\n",
    "        return enc_output, cell\n",
    "    \n",
    "\n",
    "class Decoder(nn.Module):\n",
    "    def __init__(self, output_dim, emb_dim, hid_dim, n_layers, dropout, attention):\n",
    "        super().__init__()\n",
    "        self.output_dim = output_dim\n",
    "        self.attention = attention\n",
    "        self.emb_dim = emb_dim\n",
    "        self.hid_dim = hid_dim\n",
    "        self.n_layers = n_layers\n",
    "        self.dropout = dropout\n",
    "        self.embedding = nn.Embedding(\n",
    "            num_embeddings=output_dim,\n",
    "            embedding_dim=emb_dim\n",
    "        )\n",
    "        self.rnnGRU = nn.GRU((hid_dim * 2) + emb_dim, hid_dim)\n",
    "        self.fc_out = nn.Linear((hid_dim * 2) + hid_dim + emb_dim, output_dim)\n",
    "        self.dropout = nn.Dropout(p=dropout)\n",
    "        \n",
    "        \n",
    "    def forward(self, dec_input, hidden, cell):\n",
    "        # input = [batch size]\n",
    "        # hidden = [n layers * n directions, batch size, hid dim]\n",
    "        # cell = [n layers * n directions, batch size, hid dim]\n",
    "        # n directions in the decoder will both always be 1, therefore:\n",
    "        # hidden = [n layers, batch size, hid dim]\n",
    "        # context = [n layers, batch size, hid dim]\n",
    "        dec_input = dec_input.unsqueeze(1) # [batch_size, 1]\n",
    "        # input = [1, batch size]\n",
    "        # Compute an embedding from the input data and apply dropout to it\n",
    "        # embedded = [1, batch size, emb dim]\n",
    "        embedded = self.dropout(self.embedding(dec_input)).transpose(0, 1)\n",
    "        # Compute the RNN output values of the encoder RNN. \n",
    "        # outputs, hidden and cell should be initialized here\n",
    "        a = self.attention(cell, hidden).unsqueeze(1) # [batch_size, 1, src_len] \n",
    "        # output = [sent len, batch size, hid dim * n directions]\n",
    "        # hidden = [n layers * n directions, batch size, hid dim]\n",
    "        hidden = hidden.transpose(0, 1)\n",
    "        # cell = [n layers * n directions, batch size, hid dim]\n",
    "        c = torch.bmm(a, hidden).transpose(0, 1) # [1, batch_size, hid_dim * 2]\n",
    "        # sent len and n directions will always be 1 in the decoder, therefore:\n",
    "        # output = [1, batch size, hid dim]\n",
    "        # hidden = [n layers, batch size, hid dim]\n",
    "        # cell = [n layers, batch size, hid dim]\n",
    "        rnn_input = torch.cat((embedded, c), dim = 2) # [1, batch_size, (enc_hid_dim * 2) + emb_dim]\n",
    "        dec_output, dec_hidden = self.rnnGRU(rnn_input, cell.unsqueeze(0))\n",
    "        embedded = embedded.squeeze(0)\n",
    "        dec_output = dec_output.squeeze(0)\n",
    "        c = c.squeeze(0)\n",
    "        # prediction = [batch size, output dim]\n",
    "        prediction = self.fc_out(torch.cat((dec_output, c, embedded), dim = 1))\n",
    "        return prediction, dec_hidden.squeeze(0) \n",
    "   \n",
    "\n",
    "class Seq2Seq(nn.Module):\n",
    "    def __init__(self, encoder, decoder, device):\n",
    "        super().__init__()\n",
    "        self.encoder = encoder\n",
    "        self.decoder = decoder\n",
    "        self.device = device\n",
    "        assert encoder.hid_dim == decoder.hid_dim, \\\n",
    "            \"Hidden dimensions of encoder and decoder must be equal!\"\n",
    "        assert encoder.n_layers == decoder.n_layers, \\\n",
    "            \"Encoder and decoder must have equal number of layers!\"\n",
    "\n",
    "\n",
    "    def forward(self, src, trg, teacher_forcing_ratio = 0.5):\n",
    "        # src = [src sent len, batch size]\n",
    "        # trg = [trg sent len, batch size]\n",
    "        # teacher_forcing_ratio is probability to use teacher forcing\n",
    "        # e.g. if teacher_forcing_ratio is 0.75 we use ground-truth inputs 75% of the time\n",
    "        # Again, now batch is the first dimention instead of zero\n",
    "        batch_size = src.shape[1]\n",
    "        max_len = trg.shape[0]\n",
    "        trg_vocab_size = self.decoder.output_dim\n",
    "        # tensor to store decoder outputs\n",
    "        outputs = torch.zeros(max_len, batch_size, trg_vocab_size).to(self.device)\n",
    "        # last hidden state of the encoder is used as the initial hidden state of the decoder\n",
    "        hidden, cell = self.encoder(src)\n",
    "        # first input to the decoder is the <sos> tokens\n",
    "        dec_input = trg[0,:]\n",
    "        for t in range(1, max_len):\n",
    "            output, cell = self.decoder(dec_input, hidden, cell)\n",
    "            outputs[t] = output\n",
    "            teacher_force = random.random() < teacher_forcing_ratio\n",
    "            top1 = output.argmax(1) \n",
    "            dec_input = (trg[t] if teacher_force else top1)\n",
    "        return outputs"
   ]
  },
  {
   "cell_type": "code",
   "execution_count": 60,
   "id": "46ce353c",
   "metadata": {},
   "outputs": [
    {
     "data": {
      "text/plain": [
       "Seq2Seq(\n",
       "  (encoder): Encoder(\n",
       "    (embedding): Embedding(647, 128)\n",
       "    (rnnGRU): GRU(128, 256, bidirectional=True)\n",
       "    (fc): Linear(in_features=512, out_features=256, bias=True)\n",
       "    (dropout): Dropout(p=0.5, inplace=False)\n",
       "  )\n",
       "  (decoder): Decoder(\n",
       "    (attention): Attention(\n",
       "      (attn): Linear(in_features=768, out_features=256, bias=False)\n",
       "      (v): Linear(in_features=256, out_features=1, bias=False)\n",
       "    )\n",
       "    (embedding): Embedding(1327, 128)\n",
       "    (rnnGRU): GRU(640, 256)\n",
       "    (fc_out): Linear(in_features=896, out_features=1327, bias=True)\n",
       "    (dropout): Dropout(p=0.5, inplace=False)\n",
       "  )\n",
       ")"
      ]
     },
     "execution_count": 60,
     "metadata": {},
     "output_type": "execute_result"
    }
   ],
   "source": [
    "attn = Attention(HID_DIM)\n",
    "enc2 = Encoder(INPUT_DIM, ENC_EMB_DIM, HID_DIM, N_LAYERS, ENC_DROPOUT)\n",
    "dec2 = Decoder(OUTPUT_DIM, DEC_EMB_DIM, HID_DIM, N_LAYERS, DEC_DROPOUT, attn)\n",
    "# dont forget to put the model to the right device\n",
    "model2 = Seq2Seq(enc2, dec2, device).to(device)\n",
    "model2.apply(init_weights)"
   ]
  },
  {
   "cell_type": "code",
   "execution_count": 61,
   "id": "7adc85b3",
   "metadata": {},
   "outputs": [
    {
     "name": "stdout",
     "output_type": "stream",
     "text": [
      "The model2 has 3,053,743 trainable parameters\n"
     ]
    }
   ],
   "source": [
    "print(f'The model2 has {count_parameters(model2):,} trainable parameters')"
   ]
  },
  {
   "cell_type": "code",
   "execution_count": 62,
   "id": "619c7b44",
   "metadata": {},
   "outputs": [],
   "source": [
    "N_EPOCHS = 7\n",
    "PAD_IDX = TRG.vocab.stoi['<pad>']\n",
    "optimizer = optim.Adam(model2.parameters()) # lr = 1e-3\n",
    "criterion = nn.CrossEntropyLoss(ignore_index = PAD_IDX)"
   ]
  },
  {
   "cell_type": "code",
   "execution_count": 63,
   "id": "e19643c0",
   "metadata": {},
   "outputs": [],
   "source": [
    "train_history = []\n",
    "valid_history = []\n",
    "best_valid_loss = float('inf')"
   ]
  },
  {
   "cell_type": "code",
   "execution_count": 64,
   "id": "78eac868",
   "metadata": {
    "scrolled": true
   },
   "outputs": [
    {
     "data": {
      "image/png": "[encoded data removed]",
      "text/plain": [
       "<Figure size 864x576 with 2 Axes>"
      ]
     },
     "metadata": {
      "needs_background": "light"
     },
     "output_type": "display_data"
    },
    {
     "name": "stdout",
     "output_type": "stream",
     "text": [
      "Epoch: 07 | Time: 4m 24s\n",
      "\tTrain Loss: 2.881 | Train PPL:  17.833\n",
      "\t Val. Loss: 4.122 |  Val. PPL:  61.655\n"
     ]
    }
   ],
   "source": [
    "for epoch in range(N_EPOCHS):\n",
    "    start_time = time.time()\n",
    "    train_loss = train(model2, train_iterator, optimizer, criterion, CLIP, train_history, valid_history)\n",
    "    valid_loss = evaluate(model2, valid_iterator, criterion)\n",
    "    end_time = time.time()\n",
    "    epoch_mins, epoch_secs = epoch_time(start_time, end_time)\n",
    "    if valid_loss < best_valid_loss:\n",
    "        best_valid_loss = valid_loss\n",
    "        torch.save(model2.state_dict(), 'tut1-model2.pt')\n",
    "    train_history.append(train_loss)\n",
    "    valid_history.append(valid_loss)\n",
    "    print(f'Epoch: {epoch+1:02} | Time: {epoch_mins}m {epoch_secs}s')\n",
    "    print(f'\\tTrain Loss: {train_loss:.3f} | Train PPL: {math.exp(train_loss):7.3f}')\n",
    "    print(f'\\t Val. Loss: {valid_loss:.3f} |  Val. PPL: {math.exp(valid_loss):7.3f}')"
   ]
  },
  {
   "cell_type": "code",
   "execution_count": 65,
   "id": "f56b2f75",
   "metadata": {},
   "outputs": [],
   "source": [
    "imp.reload(utils)\n",
    "generate_translation = utils.generate_translation\n",
    "remove_tech_tokens = utils.remove_tech_tokens\n",
    "get_text = utils.get_text\n",
    "flatten = utils.flatten"
   ]
  },
  {
   "cell_type": "code",
   "execution_count": 66,
   "id": "0ea828ed",
   "metadata": {},
   "outputs": [],
   "source": [
    "batch = next(iter(test_iterator))"
   ]
  },
  {
   "cell_type": "code",
   "execution_count": 67,
   "id": "d3f19709",
   "metadata": {},
   "outputs": [
    {
     "name": "stdout",
     "output_type": "stream",
     "text": [
      "Original: tiefer luftdruck bestimmt unser wetter\n",
      "Generated: das tief das wetter\n",
      "\n",
      "Original: und morgen wird es wieder verbreitet sonnig\n",
      "Generated: morgen scheint häufig die sonne sonne sonne sonne\n",
      "\n"
     ]
    }
   ],
   "source": [
    "for idx in [1,2]:\n",
    "    src = batch.src[:, idx:idx+1]\n",
    "    trg = batch.trg[:, idx:idx+1]\n",
    "    generate_translation(src, trg, model2, TRG.vocab)"
   ]
  },
  {
   "cell_type": "code",
   "execution_count": 68,
   "id": "2cf761bb",
   "metadata": {},
   "outputs": [
    {
     "name": "stderr",
     "output_type": "stream",
     "text": [
      "78it [00:08,  8.77it/s]\n"
     ]
    }
   ],
   "source": [
    "original_text = []\n",
    "generated_text = []\n",
    "model2.eval()\n",
    "with torch.no_grad():\n",
    "    for i, batch in tqdm.tqdm(enumerate(test_iterator)):\n",
    "        src = batch.src\n",
    "        trg = batch.trg\n",
    "        # turn off teacher forcing\n",
    "        output = model2(src, trg, 0)\n",
    "        # trg = [trg sent len, batch size]\n",
    "        # output = [trg sent len, batch size, output dim]\n",
    "        output = output.argmax(dim=-1)\n",
    "        original_text.extend([get_text(x, TRG.vocab) for x in trg.cpu().numpy().T])\n",
    "        generated_text.extend([get_text(x, TRG.vocab) for x in output[1:].detach().cpu().numpy().T])\n"
   ]
  },
  {
   "cell_type": "code",
   "execution_count": 69,
   "id": "06079e1e",
   "metadata": {},
   "outputs": [
    {
     "data": {
      "text/plain": [
       "17.04210865175133"
      ]
     },
     "execution_count": 69,
     "metadata": {},
     "output_type": "execute_result"
    }
   ],
   "source": [
    "from nltk.translate.bleu_score import corpus_bleu\n",
    "# Calculate BLEU-4\n",
    "corpus_bleu([[text] for text in original_text], generated_text) * 100"
   ]
  },
  {
   "cell_type": "code",
   "execution_count": 70,
   "id": "69db1796",
   "metadata": {
    "scrolled": true
   },
   "outputs": [],
   "source": [
    "from rouge import Rouge\n",
    "\n",
    "def calculate_rouge_scores(original_text, generated_text):\n",
    "    rouge = Rouge()\n",
    "    scores = rouge.get_scores(generated_text, original_text, avg=True, ignore_empty=True)\n",
    "    return scores \n",
    "\n",
    "rouge_scores = []\n",
    "for original, generated in zip(original_text, generated_text):\n",
    "    original_str = ' '.join(original)\n",
    "    generated_str = ' '.join(generated)\n",
    "    if generated and original is not None:\n",
    "        scores = calculate_rouge_scores(original_str, generated_str)\n",
    "        rouge_scores.append(scores)\n"
   ]
  },
  {
   "cell_type": "code",
   "execution_count": 71,
   "id": "2975a26b",
   "metadata": {},
   "outputs": [
    {
     "name": "stdout",
     "output_type": "stream",
     "text": [
      "Average ROUGE scores:\n",
      "{'rouge-1': {'r': 0.43197808032560125, 'p': 0.5601441739050393, 'f': 0.47469506081788426}, 'rouge-2': {'r': 0.24438774282835626, 'p': 0.2718697957004584, 'f': 0.25253560906309275}, 'rouge-l': {'r': 0.40867318332138935, 'p': 0.5273642831552315, 'f': 0.44812020166641253}}\n"
     ]
    }
   ],
   "source": [
    "def calculate_average_rouge_scores(rouge_scores):\n",
    "    num_pairs = len(rouge_scores)\n",
    "    avg_rouge_scores = {\n",
    "        'rouge-1': {'r': 0.0, 'p': 0.0, 'f': 0.0},\n",
    "        'rouge-2': {'r': 0.0, 'p': 0.0, 'f': 0.0},\n",
    "        'rouge-l': {'r': 0.0, 'p': 0.0, 'f': 0.0}\n",
    "    }\n",
    "    for scores in rouge_scores:\n",
    "        for metric in avg_rouge_scores:\n",
    "            for key in ['r', 'p', 'f']:\n",
    "                avg_rouge_scores[metric][key] += scores[metric][key]\n",
    "    for metric in avg_rouge_scores:\n",
    "        for key in ['r', 'p', 'f']:\n",
    "            avg_rouge_scores[metric][key] /= num_pairs\n",
    "\n",
    "    return avg_rouge_scores\n",
    "\n",
    "\n",
    "rouge_scores = []\n",
    "for original, generated in zip(original_text, generated_text):\n",
    "    original_str = ' '.join(original)\n",
    "    generated_str = ' '.join(generated)\n",
    "    if generated and original is not None:\n",
    "        scores = calculate_rouge_scores(original_str, generated_str)\n",
    "        rouge_scores.append(scores)\n",
    "\n",
    "# Calculate average ROUGE scores\n",
    "avg_rouge_scores = calculate_average_rouge_scores(rouge_scores)\n",
    "\n",
    "# Access average ROUGE scores\n",
    "print(\"Average ROUGE scores:\")\n",
    "print(avg_rouge_scores)\n"
   ]
  },
  {
   "cell_type": "code",
   "execution_count": 72,
   "id": "dbe54d42",
   "metadata": {},
   "outputs": [
    {
     "name": "stdout",
     "output_type": "stream",
     "text": [
      "BLEU-1: 39.27\n",
      "BLEU-2: 28.54\n",
      "BLEU-3: 21.79\n"
     ]
    }
   ],
   "source": [
    "# Calculate BLEU-1\n",
    "bleu1_score = corpus_bleu([[text] for text in original_text], generated_text, weights=(1, 0, 0, 0)) * 100\n",
    "\n",
    "# Calculate BLEU-2\n",
    "bleu2_score = corpus_bleu([[text] for text in original_text], generated_text, weights=(0.5, 0.5, 0, 0)) * 100\n",
    "\n",
    "# Calculate BLEU-3\n",
    "bleu3_score = corpus_bleu([[text] for text in original_text], generated_text, weights=(0.33, 0.33, 0.33, 0)) * 100\n",
    "\n",
    "print(f\"BLEU-1: {bleu1_score:.2f}\")\n",
    "print(f\"BLEU-2: {bleu2_score:.2f}\")\n",
    "print(f\"BLEU-3: {bleu3_score:.2f}\")"
   ]
  },
  {
   "cell_type": "code",
   "execution_count": null,
   "id": "92b241d5",
   "metadata": {},
   "outputs": [],
   "source": []
  },
  {
   "cell_type": "code",
   "execution_count": null,
   "id": "762f9d76",
   "metadata": {},
   "outputs": [],
   "source": []
  },
  {
   "cell_type": "code",
   "execution_count": null,
   "id": "82e8551c",
   "metadata": {},
   "outputs": [],
   "source": []
  },
  {
   "cell_type": "code",
   "execution_count": null,
   "id": "c1847056",
   "metadata": {},
   "outputs": [],
   "source": []
  },
  {
   "cell_type": "code",
   "execution_count": null,
   "id": "078498b3",
   "metadata": {},
   "outputs": [],
   "source": []
  },
  {
   "cell_type": "code",
   "execution_count": null,
   "id": "4d9b2ddb",
   "metadata": {},
   "outputs": [],
   "source": []
  },
  {
   "cell_type": "code",
   "execution_count": null,
   "id": "46817d68",
   "metadata": {},
   "outputs": [],
   "source": []
  },
  {
   "cell_type": "code",
   "execution_count": null,
   "id": "8bb66a41",
   "metadata": {},
   "outputs": [],
   "source": []
  },
  {
   "cell_type": "code",
   "execution_count": null,
   "id": "e18b01d5",
   "metadata": {},
   "outputs": [],
   "source": []
  }
 ],
 "metadata": {
  "kernelspec": {
   "display_name": "Python 3 (ipykernel)",
   "language": "python",
   "name": "python3"
  },
  "language_info": {
   "codemirror_mode": {
    "name": "ipython",
    "version": 3
   },
   "file_extension": ".py",
   "mimetype": "text/x-python",
   "name": "python",
   "nbconvert_exporter": "python",
   "pygments_lexer": "ipython3",
   "version": "3.9.7"
  }
 },
 "nbformat": 4,
 "nbformat_minor": 5
}
