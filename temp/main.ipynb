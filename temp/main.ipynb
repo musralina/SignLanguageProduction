{
 "cells": [
  {
   "cell_type": "code",
   "execution_count": 1,
   "id": "4066d26e",
   "metadata": {},
   "outputs": [],
   "source": [
    "import math\n",
    "from cvzone.HandTrackingModule import HandDetector\n",
    "import cv2\n",
    "import numpy as np"
   ]
  },
  {
   "cell_type": "code",
   "execution_count": 2,
   "id": "5b6cb440",
   "metadata": {},
   "outputs": [],
   "source": [
    "from handcrop import handCrop"
   ]
  },
  {
   "cell_type": "code",
   "execution_count": 3,
   "id": "b5edb981",
   "metadata": {},
   "outputs": [],
   "source": [
    "# captured video local location\n",
    "cap = cv2.VideoCapture('/Users/alua/Desktop/work_study/DiplomaMSAI/workspace0/Video/Video1.mov')"
   ]
  },
  {
   "cell_type": "code",
   "execution_count": 4,
   "id": "da041e2d",
   "metadata": {},
   "outputs": [],
   "source": [
    "# we have two hands, to be detected, # https://github.com/cvzone/cvzone\n",
    "detector = HandDetector(maxHands = 2)\n",
    "# size for cropping the image\n",
    "offset = 150\n",
    "imgSize = 370"
   ]
  },
  {
   "cell_type": "code",
   "execution_count": null,
   "id": "e52a1c19",
   "metadata": {
    "scrolled": false
   },
   "outputs": [
    {
     "name": "stderr",
     "output_type": "stream",
     "text": [
      "INFO: Created TensorFlow Lite XNNPACK delegate for CPU.\n"
     ]
    }
   ],
   "source": [
    "while True:\n",
    "    # read the video\n",
    "    _, img = cap.read()\n",
    "    # detect the hands in video\n",
    "    if type(img) is not None:\n",
    "        # print(type(img))\n",
    "        hands, img = detector.findHands(img)\n",
    "        # if hands are detected:\n",
    "        if hands:\n",
    "            hand = hands[0]\n",
    "            # both hands are detected and imgWhite for further training is created\n",
    "            imgWhite = handCrop(hand, img)\n",
    "            # cv2.imshow('imgWhite', imgWhite)\n",
    "            if cv2.waitKey(1) & 0xFF == ord('q'):\n",
    "                break\n",
    "# When everything done, release the capture\n",
    "cap.release()\n",
    "cv2.destroyAllWindows()  "
   ]
  },
  {
   "cell_type": "code",
   "execution_count": null,
   "id": "24ab3681",
   "metadata": {},
   "outputs": [],
   "source": []
  }
 ],
 "metadata": {
  "kernelspec": {
   "display_name": "Python 3 (ipykernel)",
   "language": "python",
   "name": "python3"
  },
  "language_info": {
   "codemirror_mode": {
    "name": "ipython",
    "version": 3
   },
   "file_extension": ".py",
   "mimetype": "text/x-python",
   "name": "python",
   "nbconvert_exporter": "python",
   "pygments_lexer": "ipython3",
   "version": "3.9.7"
  }
 },
 "nbformat": 4,
 "nbformat_minor": 5
}
